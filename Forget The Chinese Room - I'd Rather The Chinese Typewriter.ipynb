{
 "cells": [
  {
   "cell_type": "code",
   "execution_count": 35,
   "metadata": {
    "collapsed": false,
    "deletable": true,
    "editable": true
   },
   "outputs": [],
   "source": [
    "# Forget The Chinese Room - I'd Rather The Chinese Typewriter\n",
    "# By Eric Leonardis and Fernando Contreras\n",
    "\n",
    "# 你好， 认识你很高兴！\n",
    "# 我叫爱李克\n",
    "\n",
    "import csv\n",
    "import numpy\n",
    "import scipy.io \n",
    "import pandas as pd\n",
    "import nltk # Natural Language Processing Toolbox\n",
    "\n",
    "# https://stackoverflow.com/questions/41199907/how-to-deal-with-chinese-in-nltk-python\n",
    "# https://www.quora.com/How-does-Python-NLTK-process-Chinese\n"
   ]
  },
  {
   "cell_type": "code",
   "execution_count": 69,
   "metadata": {
    "collapsed": false,
    "deletable": true,
    "editable": true
   },
   "outputs": [
    {
     "name": "stdout",
     "output_type": "stream",
     "text": [
      "鴻\n",
      "鳳\n",
      "雞\n",
      "鴨\n",
      "魯\n",
      "鮮\n",
      "魚\n",
      "魏\n",
      "鬧\n",
      "鬆\n",
      "髪\n",
      "骨\n",
      "驕\n",
      "驚\n",
      "騎\n",
      "馬\n",
      "騷\n",
      "（九）\n",
      "蓄\n",
      "蘊\n",
      "蕭\n",
      "葬\n",
      "蓋\n",
      "落\n",
      "茫\n",
      "茂\n",
      "莊\n",
      "芳\n",
      "芬\n",
      "苛\n",
      "荒\n",
      "蕪\n",
      "苗\n",
      "菊\n",
      "蔣\n"
     ]
    }
   ],
   "source": [
    "# .csv of traybeds as input\n",
    "# Make a very similified version using characters that I know\n",
    "# Mullaney_Traybed_Sample.csv\n",
    "\n",
    "with open('Mullaney_Traybed_Sample.csv') as traybed:\n",
    "    reader = csv.reader(traybed)\n",
    "    for row in reader:\n",
    "        print row[1]\n",
    "\n",
    "        #Calculate distance between characters"
   ]
  },
  {
   "cell_type": "code",
   "execution_count": 54,
   "metadata": {
    "collapsed": false
   },
   "outputs": [
    {
     "data": {
      "text/plain": [
       "3"
      ]
     },
     "execution_count": 54,
     "metadata": {},
     "output_type": "execute_result"
    }
   ],
   "source": [
    "len(row[0])"
   ]
  },
  {
   "cell_type": "code",
   "execution_count": null,
   "metadata": {
    "collapsed": true
   },
   "outputs": [],
   "source": [
    "# 写那个字：认识你很高兴\n",
    "\n",
    "\n"
   ]
  }
 ],
 "metadata": {
  "kernelspec": {
   "display_name": "Python 2",
   "language": "python",
   "name": "python2"
  },
  "language_info": {
   "codemirror_mode": {
    "name": "ipython",
    "version": 2
   },
   "file_extension": ".py",
   "mimetype": "text/x-python",
   "name": "python",
   "nbconvert_exporter": "python",
   "pygments_lexer": "ipython2",
   "version": "2.7.11"
  }
 },
 "nbformat": 4,
 "nbformat_minor": 2
}
